{
 "metadata": {
  "name": "Cellular"
 },
 "nbformat": 3,
 "nbformat_minor": 0,
 "worksheets": [
  {
   "cells": [
    {
     "cell_type": "code",
     "collapsed": false,
     "input": [
      "import numpy as np\n",
      "import string\n",
      "from time import sleep\n",
      "\n"
     ],
     "language": "python",
     "metadata": {},
     "outputs": [],
     "prompt_number": 1
    },
    {
     "cell_type": "code",
     "collapsed": false,
     "input": [
      "cell_dict={'Rule': {0:1, 1:1, 2:2, 3:2, 4:1, 5:0, 6:2}, 'width':600, 'limit':2000}\n"
     ],
     "language": "python",
     "metadata": {},
     "outputs": [],
     "prompt_number": 2
    },
    {
     "cell_type": "code",
     "collapsed": false,
     "input": [
      "class totalistic(object):\n",
      "\tdef __init__(self, dict0):\n",
      "\t\tself.indict=dict0\n",
      "\t\tself.found=False\n",
      "\t\tself.rule=self.indict['Rule']\n",
      "\t\tself.width=self.indict['width']\n",
      "\t\t#init_width=dict(enumerate([0]*self.width))\n",
      "\t\tself.resdict={'cells':{'index':0,'rows':{},'streak':{0:[]}, 'matches':{0:[]} }}\n",
      "\t\ttry:\n",
      "\t\t\tif self.indict['seed']:\n",
      "\t\t\t\tself.resdict['cells']['rows'].update({0: self.indict['seed']})\n",
      "\t\texcept KeyError:\n",
      "\t\t\tself.seed(self.width, self.rule)\n",
      "\tdef loop_all(self):\n",
      "\t\twhile (self.resdict['cells']['index'] < self.indict['limit']) and self.found==False:\n",
      "\t\t\tresult=self.next_row()\n",
      "\t\tif self.found==True:\n",
      "\t\t\tprint \"Found!!!!!!!!!\"\n",
      "\t\t\tprint result\n",
      "\t\t\t#return result\n",
      "\t\telse:\n",
      "\t\t\t#return False\n",
      "\t\t\treturn self.resdict\n",
      "\tdef seed(self, width, rule):\n",
      "\t\tmaxval=max(rule[i] for i in range(len(rule)))\n",
      "\t\tstart_arr=np.random.randint(0,maxval+1, width)\n",
      "\t\tself.resdict['cells']['rows'].update({0:start_arr})\n",
      "\tdef next_row(self):\n",
      "\t\tself.resdict['cells']['index']+=1\n",
      "\t\tself.row_index=self.resdict['cells']['index']\n",
      "\t\tnew_row=[]\n",
      "\t\tfor i in range(self.width):\n",
      "\t\t\tj=sum(self.resdict['cells']['rows'][self.row_index-1][x] for x in range(self.width) if (i-1<=x<=i+1))\n",
      "\t\t\tnew_row.append(self.rule[j])\n",
      "\t\tself.resdict['cells']['rows'].update({self.row_index : new_row})\n",
      "\t\tresult=self.gen_stats()\n",
      "\t\treturn result\n",
      "\tdef do_rows(self, num):\n",
      "\t\tfor i in range(num):\n",
      "\t\t\tself.next_row()\n",
      "\tdef gen_stats(self):\n",
      "\t\t#self.gen_streak()\n",
      "\t\tself.resdict['cells']['matches'].update({self.row_index:[]})\n",
      "\t\tself.resdict['cells']['streak'].update({self.row_index:[]})\n",
      "\t\tmax_sim=0\n",
      "\t\tshort=False\n",
      "\t\tbestmatch=[]\n",
      "\t\tfor i in range(self.row_index):\n",
      "\t\t\tmatch_dict=self.compare_arr(self.row_index, i)\n",
      "\t\t\tself.resdict['cells']['matches'][i].append(match_dict['match'])\n",
      "\t\t\tstreak=match_dict['streak']\n",
      "\t\t\t#print \"Streak for row \"+str(i)+\" : \" +str(streak)\n",
      "\t\t\tself.resdict['cells']['streak'][i].append(streak)\n",
      "\t\t\tif streak > max_sim:\n",
      "\t\t\t\tmax_sim=streak\n",
      "\t\t\tif streak==self.width: \n",
      "\t\t\t\tself.found=True\n",
      "\t\t\t\tif (self.row_index-i>=20):\n",
      "\t\t\t\t\tprint \"Found perfect match between row: \"+str(self.row_index)+\" and row \"+str(i)+ \" with width : \"+str(self.width)\n",
      "\t\t\t\t\tperf_match={'period':self.row_index-i, 'seed':self.resdict['cells']['rows'][i]}\n",
      "\t\t\t\t\treturn perf_match\n",
      "\t\t\t\telse:\n",
      "\t\t\t\t\tshort=True\n",
      "\t\t\telse:\n",
      "\t\t\t\tpass\n",
      "\t\t\t\t#print \"Made it to the end of the gen stats loop\"\n",
      "\t\tif self.found==True and short==False:\n",
      "\t\t\tpass\n",
      "\t\telse:\n",
      "\t\t\t#print \"made it to the end of the gen stats FUN\"\n",
      "\t\t\treturn False\n",
      "\tdef compare_arr(self, latest,past):\n",
      "\t\t#print \"invoked compare array with\"\n",
      "\t\tsame=0\n",
      "\t\tstreak=0\n",
      "\t\tmatch_active=False\n",
      "\t\tmax_streak=0\n",
      "\t\tfor j in range(self.width):\n",
      "\t\t\tif self.resdict['cells']['rows'][latest][j]==self.resdict['cells']['rows'][past][j]:\n",
      "\t\t\t\tsame+=1\n",
      "\t\t\t\tstreak+=1\n",
      "\t\t\t\tif streak > max_streak:\t\n",
      "\t\t\t\t\tmax_streak=streak\n",
      "\t\t\telse:\n",
      "\t\t\t\tmatch_active=False\n",
      "\t\t\t\tstreak=0\n",
      "\t\tpct=float(same/self.width)\n",
      "\t\tret_dict={'match':same, 'streak':max_streak}\n",
      "\t\treturn ret_dict\t"
     ],
     "language": "python",
     "metadata": {},
     "outputs": [
      {
       "ename": "TypeError",
       "evalue": "Error when calling the metaclass bases\n    __init__() takes exactly 2 arguments (4 given)",
       "output_type": "pyerr",
       "traceback": [
        "\u001b[0;31m---------------------------------------------------------------------------\u001b[0m\n\u001b[0;31mTypeError\u001b[0m                                 Traceback (most recent call last)",
        "\u001b[0;32m<ipython-input-11-22109b31cfa7>\u001b[0m in \u001b[0;36m<module>\u001b[0;34m()\u001b[0m\n\u001b[0;32m----> 1\u001b[0;31m \u001b[0;32mclass\u001b[0m \u001b[0mtotalistic\u001b[0m\u001b[0;34m(\u001b[0m\u001b[0mobject\u001b[0m\u001b[0;34m)\u001b[0m\u001b[0;34m:\u001b[0m\u001b[0;34m\u001b[0m\u001b[0m\n\u001b[0m\u001b[1;32m      2\u001b[0m         \u001b[0;32mdef\u001b[0m \u001b[0m__init__\u001b[0m\u001b[0;34m(\u001b[0m\u001b[0mself\u001b[0m\u001b[0;34m,\u001b[0m \u001b[0mdict0\u001b[0m\u001b[0;34m)\u001b[0m\u001b[0;34m:\u001b[0m\u001b[0;34m\u001b[0m\u001b[0m\n\u001b[1;32m      3\u001b[0m                 \u001b[0mself\u001b[0m\u001b[0;34m.\u001b[0m\u001b[0mindict\u001b[0m\u001b[0;34m=\u001b[0m\u001b[0mdict0\u001b[0m\u001b[0;34m\u001b[0m\u001b[0m\n\u001b[1;32m      4\u001b[0m                 \u001b[0mself\u001b[0m\u001b[0;34m.\u001b[0m\u001b[0mfound\u001b[0m\u001b[0;34m=\u001b[0m\u001b[0mFalse\u001b[0m\u001b[0;34m\u001b[0m\u001b[0m\n\u001b[1;32m      5\u001b[0m                 \u001b[0mself\u001b[0m\u001b[0;34m.\u001b[0m\u001b[0mrule\u001b[0m\u001b[0;34m=\u001b[0m\u001b[0mself\u001b[0m\u001b[0;34m.\u001b[0m\u001b[0mindict\u001b[0m\u001b[0;34m[\u001b[0m\u001b[0;34m'Rule'\u001b[0m\u001b[0;34m]\u001b[0m\u001b[0;34m\u001b[0m\u001b[0m\n",
        "\u001b[0;31mTypeError\u001b[0m: Error when calling the metaclass bases\n    __init__() takes exactly 2 arguments (4 given)"
       ]
      }
     ],
     "prompt_number": 11
    },
    {
     "cell_type": "code",
     "collapsed": false,
     "input": [
      "def dec_to_nbase(num, base, desired):\n",
      "\ttemp=[]\n",
      "\twhile num > 0:\n",
      "\t\ttemp.append(num%base)\n",
      "\t\tnum/=base\n",
      "\twhile len(temp) < desired:\n",
      "\t\ttemp.append(0)\n",
      "\tordered=[]\n",
      "\tfor i in range(len(temp)):\n",
      "\t\tordered.append(temp[len(temp)-i-1])\n",
      "\treturn ordered"
     ],
     "language": "python",
     "metadata": {},
     "outputs": [],
     "prompt_number": 4
    },
    {
     "cell_type": "code",
     "collapsed": false,
     "input": [
      "def get_max_streak(result):\n",
      "\tmax_streak={'val':0,'row':0,'col':0}\n",
      "\tfor i in result['cells']['streak'].keys():\n",
      "\t\tfor loc,j in list(enumerate(result['cells']['streak'][i])):\n",
      "\t\t\tif j>max_streak['val']:\n",
      "\t\t\t\tmax_streak.update({'val':j,'row':i,'col':loc})\n",
      "\treturn max_streak"
     ],
     "language": "python",
     "metadata": {},
     "outputs": [],
     "prompt_number": 5
    },
    {
     "cell_type": "code",
     "collapsed": false,
     "input": [
      "_num_base=3\n",
      "_rule_len=7\n",
      "_limit=1000\n",
      "\n",
      "solution_dict={'rule':{}}\n",
      "tested_dict={'rule':{}}"
     ],
     "language": "python",
     "metadata": {},
     "outputs": [],
     "prompt_number": 6
    },
    {
     "cell_type": "code",
     "collapsed": false,
     "input": [
      "for i in range(1289,1292):\n",
      "\tsolution_dict['rule'][i]={}\n",
      "\ttested_dict['rule'][i]={}\n",
      "\trulearr=dec_to_nbase(i, _num_base, _rule_len)\n",
      "\truledict=dict(enumerate(rulearr))\n",
      "\tfor width in range(20,101):\n",
      "\t\ttested_dict['rule'][i][width] = []\n",
      "\t\tsolution_dict['rule'][i][width]=[]\n",
      "\t\tinput_dict={'width':width, 'limit':_limit, 'Rule':ruledict}\n",
      "\t\tobject=totalistic(input_dict)\n",
      "\t\tresults=object.loop_all()\n",
      "\t\tif results:\n",
      "\t\t\ttested_dict['rule'][i][width].append(results)\n",
      "\t\t\tstreak=get_max_streak(results)\n",
      "\t\t\tprint 'Consecutive Matching values : '+str(streak['val'])\n",
      "\tprint 'finished with rule : '+str(i)"
     ],
     "language": "python",
     "metadata": {},
     "outputs": [
      {
       "output_type": "stream",
       "stream": "stdout",
       "text": [
        "Found!!!!!!!!!\n",
        "False\n",
        "Found!!!!!!!!!\n",
        "False\n",
        "Found!!!!!!!!!\n",
        "False\n",
        "Found!!!!!!!!!\n",
        "False\n",
        "Found!!!!!!!!!\n",
        "False\n",
        "Found!!!!!!!!!\n",
        "False\n",
        "Found!!!!!!!!!\n",
        "False\n",
        "Found!!!!!!!!!\n",
        "False\n",
        "Found!!!!!!!!!\n",
        "False\n",
        "Found!!!!!!!!!\n",
        "False\n",
        "Found!!!!!!!!!\n",
        "False\n",
        "Found!!!!!!!!!\n",
        "False\n",
        "Found!!!!!!!!!\n",
        "False\n",
        "Found!!!!!!!!!\n",
        "False\n",
        "Found!!!!!!!!!\n",
        "False\n",
        "Found!!!!!!!!!\n",
        "False\n",
        "Found!!!!!!!!!\n",
        "False\n",
        "Found!!!!!!!!!\n",
        "False\n",
        "Found!!!!!!!!!\n",
        "False\n",
        "Found!!!!!!!!!\n",
        "False\n",
        "Found!!!!!!!!!\n",
        "False\n",
        "Found!!!!!!!!!\n",
        "False\n",
        "Found!!!!!!!!!\n",
        "False\n",
        "Found!!!!!!!!!\n",
        "False\n",
        "Found!!!!!!!!!\n",
        "False\n",
        "Found!!!!!!!!!\n",
        "False\n",
        "Found!!!!!!!!!\n",
        "False\n",
        "Found!!!!!!!!!\n",
        "False\n",
        "Found!!!!!!!!!\n",
        "False\n",
        "Found!!!!!!!!!\n",
        "False\n",
        "Found!!!!!!!!!"
       ]
      },
      {
       "output_type": "stream",
       "stream": "stdout",
       "text": [
        "\n",
        "False\n",
        "Found!!!!!!!!!\n",
        "False\n",
        "Found!!!!!!!!!\n",
        "False\n",
        "Found!!!!!!!!!\n",
        "False\n",
        "Found!!!!!!!!!\n",
        "False\n",
        "Found!!!!!!!!!\n",
        "False\n",
        "Found!!!!!!!!!\n",
        "False\n",
        "Found!!!!!!!!!\n",
        "False\n",
        "Found!!!!!!!!!\n",
        "False\n",
        "Found!!!!!!!!!\n",
        "False\n",
        "Found!!!!!!!!!\n",
        "False\n",
        "Found!!!!!!!!!\n",
        "False\n",
        "Found!!!!!!!!!\n",
        "False\n",
        "Found!!!!!!!!!\n",
        "False\n",
        "Found!!!!!!!!!\n",
        "False\n",
        "Found!!!!!!!!!"
       ]
      },
      {
       "output_type": "stream",
       "stream": "stdout",
       "text": [
        "\n",
        "False\n",
        "Found!!!!!!!!!\n",
        "False\n",
        "Found!!!!!!!!!\n",
        "False\n",
        "Found!!!!!!!!!\n",
        "False\n",
        "Found!!!!!!!!!\n",
        "False\n",
        "Found!!!!!!!!!\n",
        "False\n",
        "Found!!!!!!!!!\n",
        "False\n",
        "Found!!!!!!!!!\n",
        "False\n",
        "Found!!!!!!!!!\n",
        "False\n",
        "Found!!!!!!!!!\n",
        "False\n",
        "Found!!!!!!!!!"
       ]
      },
      {
       "output_type": "stream",
       "stream": "stdout",
       "text": [
        "\n",
        "False\n",
        "Found!!!!!!!!!\n",
        "False\n",
        "Found!!!!!!!!!\n",
        "False\n",
        "Found!!!!!!!!!\n",
        "False\n",
        "Found!!!!!!!!!\n",
        "False\n",
        "Found!!!!!!!!!\n",
        "False\n",
        "Found!!!!!!!!!\n",
        "False\n",
        "Found!!!!!!!!!\n",
        "False\n",
        "Found!!!!!!!!!"
       ]
      },
      {
       "output_type": "stream",
       "stream": "stdout",
       "text": [
        "\n",
        "False\n",
        "Found!!!!!!!!!\n",
        "False\n",
        "Found!!!!!!!!!\n",
        "False\n",
        "Found!!!!!!!!!\n",
        "False\n",
        "Found!!!!!!!!!\n",
        "False\n",
        "Found!!!!!!!!!\n",
        "False\n",
        "Found!!!!!!!!!\n",
        "False\n",
        "Found!!!!!!!!!"
       ]
      },
      {
       "output_type": "stream",
       "stream": "stdout",
       "text": [
        "\n",
        "False\n",
        "Found!!!!!!!!!\n",
        "False\n",
        "Found!!!!!!!!!\n",
        "False\n",
        "Found!!!!!!!!!\n",
        "False\n",
        "Found!!!!!!!!!\n",
        "False\n",
        "Found!!!!!!!!!\n",
        "False\n",
        "Found!!!!!!!!!"
       ]
      },
      {
       "output_type": "stream",
       "stream": "stdout",
       "text": [
        "\n",
        "False\n",
        "Found!!!!!!!!!\n",
        "False\n",
        "Found!!!!!!!!!\n",
        "False\n",
        "Found!!!!!!!!!\n",
        "False\n",
        "Found!!!!!!!!!\n",
        "False\n",
        "finished with rule : 1289\n",
        "Consecutive Matching values : 16"
       ]
      },
      {
       "output_type": "stream",
       "stream": "stdout",
       "text": [
        "\n",
        "Consecutive Matching values : 19"
       ]
      },
      {
       "output_type": "stream",
       "stream": "stdout",
       "text": [
        "\n",
        "Found perfect match between row: 436 and row 296"
       ]
      },
      {
       "output_type": "stream",
       "stream": "stdout",
       "text": [
        "\n",
        "Found!!!!!!!!!\n",
        "{'seed': [0, 0, 0, 1, 1, 0, 0, 2, 0, 2, 2, 2, 2, 0, 2, 0, 0, 1, 1, 0, 0, 0], 'period': 140}\n",
        "Consecutive Matching values : 19"
       ]
      },
      {
       "output_type": "stream",
       "stream": "stdout",
       "text": [
        "\n",
        "Consecutive Matching values : 16"
       ]
      },
      {
       "output_type": "stream",
       "stream": "stdout",
       "text": [
        "\n",
        "Consecutive Matching values : 21"
       ]
      },
      {
       "output_type": "stream",
       "stream": "stdout",
       "text": [
        "\n",
        "Consecutive Matching values : 18"
       ]
      },
      {
       "output_type": "stream",
       "stream": "stdout",
       "text": [
        "\n",
        "Consecutive Matching values : 17"
       ]
      },
      {
       "output_type": "stream",
       "stream": "stdout",
       "text": [
        "\n",
        "Found perfect match between row: 721 and row 685"
       ]
      },
      {
       "output_type": "stream",
       "stream": "stdout",
       "text": [
        "\n",
        "Found!!!!!!!!!\n",
        "{'seed': [1, 1, 0, 2, 1, 2, 2, 2, 2, 1, 1, 2, 2, 2, 2, 2, 2, 2, 1, 1, 2, 2, 1, 1, 2, 0, 2, 1], 'period': 36}\n",
        "Consecutive Matching values : 20"
       ]
      },
      {
       "ename": "KeyboardInterrupt",
       "evalue": "",
       "output_type": "pyerr",
       "traceback": [
        "\u001b[0;31m---------------------------------------------------------------------------\u001b[0m\n\u001b[0;31mKeyboardInterrupt\u001b[0m                         Traceback (most recent call last)",
        "\u001b[0;32m<ipython-input-7-4a58ce3d8756>\u001b[0m in \u001b[0;36m<module>\u001b[0;34m()\u001b[0m\n\u001b[1;32m      9\u001b[0m                 \u001b[0minput_dict\u001b[0m\u001b[0;34m=\u001b[0m\u001b[0;34m{\u001b[0m\u001b[0;34m'width'\u001b[0m\u001b[0;34m:\u001b[0m\u001b[0mwidth\u001b[0m\u001b[0;34m,\u001b[0m \u001b[0;34m'limit'\u001b[0m\u001b[0;34m:\u001b[0m\u001b[0m_limit\u001b[0m\u001b[0;34m,\u001b[0m \u001b[0;34m'Rule'\u001b[0m\u001b[0;34m:\u001b[0m\u001b[0mruledict\u001b[0m\u001b[0;34m}\u001b[0m\u001b[0;34m\u001b[0m\u001b[0m\n\u001b[1;32m     10\u001b[0m                 \u001b[0mobject\u001b[0m\u001b[0;34m=\u001b[0m\u001b[0mtotalistic\u001b[0m\u001b[0;34m(\u001b[0m\u001b[0minput_dict\u001b[0m\u001b[0;34m)\u001b[0m\u001b[0;34m\u001b[0m\u001b[0m\n\u001b[0;32m---> 11\u001b[0;31m                 \u001b[0mresults\u001b[0m\u001b[0;34m=\u001b[0m\u001b[0mobject\u001b[0m\u001b[0;34m.\u001b[0m\u001b[0mloop_all\u001b[0m\u001b[0;34m(\u001b[0m\u001b[0;34m)\u001b[0m\u001b[0;34m\u001b[0m\u001b[0m\n\u001b[0m\u001b[1;32m     12\u001b[0m                 \u001b[0;32mif\u001b[0m \u001b[0mresults\u001b[0m\u001b[0;34m:\u001b[0m\u001b[0;34m\u001b[0m\u001b[0m\n\u001b[1;32m     13\u001b[0m                         \u001b[0mtested_dict\u001b[0m\u001b[0;34m[\u001b[0m\u001b[0;34m'rule'\u001b[0m\u001b[0;34m]\u001b[0m\u001b[0;34m[\u001b[0m\u001b[0mi\u001b[0m\u001b[0;34m]\u001b[0m\u001b[0;34m[\u001b[0m\u001b[0mwidth\u001b[0m\u001b[0;34m]\u001b[0m\u001b[0;34m.\u001b[0m\u001b[0mappend\u001b[0m\u001b[0;34m(\u001b[0m\u001b[0mresults\u001b[0m\u001b[0;34m)\u001b[0m\u001b[0;34m\u001b[0m\u001b[0m\n",
        "\u001b[0;32m<ipython-input-3-cb369b70af58>\u001b[0m in \u001b[0;36mloop_all\u001b[0;34m(self)\u001b[0m\n\u001b[1;32m     14\u001b[0m         \u001b[0;32mdef\u001b[0m \u001b[0mloop_all\u001b[0m\u001b[0;34m(\u001b[0m\u001b[0mself\u001b[0m\u001b[0;34m)\u001b[0m\u001b[0;34m:\u001b[0m\u001b[0;34m\u001b[0m\u001b[0m\n\u001b[1;32m     15\u001b[0m                 \u001b[0;32mwhile\u001b[0m \u001b[0;34m(\u001b[0m\u001b[0mself\u001b[0m\u001b[0;34m.\u001b[0m\u001b[0mresdict\u001b[0m\u001b[0;34m[\u001b[0m\u001b[0;34m'cells'\u001b[0m\u001b[0;34m]\u001b[0m\u001b[0;34m[\u001b[0m\u001b[0;34m'index'\u001b[0m\u001b[0;34m]\u001b[0m \u001b[0;34m<\u001b[0m \u001b[0mself\u001b[0m\u001b[0;34m.\u001b[0m\u001b[0mindict\u001b[0m\u001b[0;34m[\u001b[0m\u001b[0;34m'limit'\u001b[0m\u001b[0;34m]\u001b[0m\u001b[0;34m)\u001b[0m \u001b[0;32mand\u001b[0m \u001b[0mself\u001b[0m\u001b[0;34m.\u001b[0m\u001b[0mfound\u001b[0m\u001b[0;34m==\u001b[0m\u001b[0mFalse\u001b[0m\u001b[0;34m:\u001b[0m\u001b[0;34m\u001b[0m\u001b[0m\n\u001b[0;32m---> 16\u001b[0;31m                         \u001b[0mresult\u001b[0m\u001b[0;34m=\u001b[0m\u001b[0mself\u001b[0m\u001b[0;34m.\u001b[0m\u001b[0mnext_row\u001b[0m\u001b[0;34m(\u001b[0m\u001b[0;34m)\u001b[0m\u001b[0;34m\u001b[0m\u001b[0m\n\u001b[0m\u001b[1;32m     17\u001b[0m                 \u001b[0;32mif\u001b[0m \u001b[0mself\u001b[0m\u001b[0;34m.\u001b[0m\u001b[0mfound\u001b[0m\u001b[0;34m==\u001b[0m\u001b[0mTrue\u001b[0m\u001b[0;34m:\u001b[0m\u001b[0;34m\u001b[0m\u001b[0m\n\u001b[1;32m     18\u001b[0m                         \u001b[0;32mprint\u001b[0m \u001b[0;34m\"Found!!!!!!!!!\"\u001b[0m\u001b[0;34m\u001b[0m\u001b[0m\n",
        "\u001b[0;32m<ipython-input-3-cb369b70af58>\u001b[0m in \u001b[0;36mnext_row\u001b[0;34m(self)\u001b[0m\n\u001b[1;32m     34\u001b[0m                         \u001b[0mnew_row\u001b[0m\u001b[0;34m.\u001b[0m\u001b[0mappend\u001b[0m\u001b[0;34m(\u001b[0m\u001b[0mself\u001b[0m\u001b[0;34m.\u001b[0m\u001b[0mrule\u001b[0m\u001b[0;34m[\u001b[0m\u001b[0mj\u001b[0m\u001b[0;34m]\u001b[0m\u001b[0;34m)\u001b[0m\u001b[0;34m\u001b[0m\u001b[0m\n\u001b[1;32m     35\u001b[0m                 \u001b[0mself\u001b[0m\u001b[0;34m.\u001b[0m\u001b[0mresdict\u001b[0m\u001b[0;34m[\u001b[0m\u001b[0;34m'cells'\u001b[0m\u001b[0;34m]\u001b[0m\u001b[0;34m[\u001b[0m\u001b[0;34m'rows'\u001b[0m\u001b[0;34m]\u001b[0m\u001b[0;34m.\u001b[0m\u001b[0mupdate\u001b[0m\u001b[0;34m(\u001b[0m\u001b[0;34m{\u001b[0m\u001b[0mself\u001b[0m\u001b[0;34m.\u001b[0m\u001b[0mrow_index\u001b[0m \u001b[0;34m:\u001b[0m \u001b[0mnew_row\u001b[0m\u001b[0;34m}\u001b[0m\u001b[0;34m)\u001b[0m\u001b[0;34m\u001b[0m\u001b[0m\n\u001b[0;32m---> 36\u001b[0;31m                 \u001b[0mresult\u001b[0m\u001b[0;34m=\u001b[0m\u001b[0mself\u001b[0m\u001b[0;34m.\u001b[0m\u001b[0mgen_stats\u001b[0m\u001b[0;34m(\u001b[0m\u001b[0;34m)\u001b[0m\u001b[0;34m\u001b[0m\u001b[0m\n\u001b[0m\u001b[1;32m     37\u001b[0m                 \u001b[0;32mreturn\u001b[0m \u001b[0mresult\u001b[0m\u001b[0;34m\u001b[0m\u001b[0m\n\u001b[1;32m     38\u001b[0m         \u001b[0;32mdef\u001b[0m \u001b[0mdo_rows\u001b[0m\u001b[0;34m(\u001b[0m\u001b[0mself\u001b[0m\u001b[0;34m,\u001b[0m \u001b[0mnum\u001b[0m\u001b[0;34m)\u001b[0m\u001b[0;34m:\u001b[0m\u001b[0;34m\u001b[0m\u001b[0m\n",
        "\u001b[0;32m<ipython-input-3-cb369b70af58>\u001b[0m in \u001b[0;36mgen_stats\u001b[0;34m(self)\u001b[0m\n\u001b[1;32m     47\u001b[0m                 \u001b[0mbestmatch\u001b[0m\u001b[0;34m=\u001b[0m\u001b[0;34m[\u001b[0m\u001b[0;34m]\u001b[0m\u001b[0;34m\u001b[0m\u001b[0m\n\u001b[1;32m     48\u001b[0m                 \u001b[0;32mfor\u001b[0m \u001b[0mi\u001b[0m \u001b[0;32min\u001b[0m \u001b[0mrange\u001b[0m\u001b[0;34m(\u001b[0m\u001b[0mself\u001b[0m\u001b[0;34m.\u001b[0m\u001b[0mrow_index\u001b[0m\u001b[0;34m)\u001b[0m\u001b[0;34m:\u001b[0m\u001b[0;34m\u001b[0m\u001b[0m\n\u001b[0;32m---> 49\u001b[0;31m                         \u001b[0mmatch_dict\u001b[0m\u001b[0;34m=\u001b[0m\u001b[0mself\u001b[0m\u001b[0;34m.\u001b[0m\u001b[0mcompare_arr\u001b[0m\u001b[0;34m(\u001b[0m\u001b[0mself\u001b[0m\u001b[0;34m.\u001b[0m\u001b[0mrow_index\u001b[0m\u001b[0;34m,\u001b[0m \u001b[0mi\u001b[0m\u001b[0;34m)\u001b[0m\u001b[0;34m\u001b[0m\u001b[0m\n\u001b[0m\u001b[1;32m     50\u001b[0m                         \u001b[0mself\u001b[0m\u001b[0;34m.\u001b[0m\u001b[0mresdict\u001b[0m\u001b[0;34m[\u001b[0m\u001b[0;34m'cells'\u001b[0m\u001b[0;34m]\u001b[0m\u001b[0;34m[\u001b[0m\u001b[0;34m'matches'\u001b[0m\u001b[0;34m]\u001b[0m\u001b[0;34m[\u001b[0m\u001b[0mi\u001b[0m\u001b[0;34m]\u001b[0m\u001b[0;34m.\u001b[0m\u001b[0mappend\u001b[0m\u001b[0;34m(\u001b[0m\u001b[0mmatch_dict\u001b[0m\u001b[0;34m[\u001b[0m\u001b[0;34m'match'\u001b[0m\u001b[0;34m]\u001b[0m\u001b[0;34m)\u001b[0m\u001b[0;34m\u001b[0m\u001b[0m\n\u001b[1;32m     51\u001b[0m                         \u001b[0mstreak\u001b[0m\u001b[0;34m=\u001b[0m\u001b[0mmatch_dict\u001b[0m\u001b[0;34m[\u001b[0m\u001b[0;34m'streak'\u001b[0m\u001b[0;34m]\u001b[0m\u001b[0;34m\u001b[0m\u001b[0m\n",
        "\u001b[0;32m<ipython-input-3-cb369b70af58>\u001b[0m in \u001b[0;36mcompare_arr\u001b[0;34m(self, latest, past)\u001b[0m\n\u001b[1;32m     77\u001b[0m                 \u001b[0mmax_streak\u001b[0m\u001b[0;34m=\u001b[0m\u001b[0;36m0\u001b[0m\u001b[0;34m\u001b[0m\u001b[0m\n\u001b[1;32m     78\u001b[0m                 \u001b[0;32mfor\u001b[0m \u001b[0mj\u001b[0m \u001b[0;32min\u001b[0m \u001b[0mrange\u001b[0m\u001b[0;34m(\u001b[0m\u001b[0mself\u001b[0m\u001b[0;34m.\u001b[0m\u001b[0mwidth\u001b[0m\u001b[0;34m)\u001b[0m\u001b[0;34m:\u001b[0m\u001b[0;34m\u001b[0m\u001b[0m\n\u001b[0;32m---> 79\u001b[0;31m                         \u001b[0;32mif\u001b[0m \u001b[0mself\u001b[0m\u001b[0;34m.\u001b[0m\u001b[0mresdict\u001b[0m\u001b[0;34m[\u001b[0m\u001b[0;34m'cells'\u001b[0m\u001b[0;34m]\u001b[0m\u001b[0;34m[\u001b[0m\u001b[0;34m'rows'\u001b[0m\u001b[0;34m]\u001b[0m\u001b[0;34m[\u001b[0m\u001b[0mlatest\u001b[0m\u001b[0;34m]\u001b[0m\u001b[0;34m[\u001b[0m\u001b[0mj\u001b[0m\u001b[0;34m]\u001b[0m\u001b[0;34m==\u001b[0m\u001b[0mself\u001b[0m\u001b[0;34m.\u001b[0m\u001b[0mresdict\u001b[0m\u001b[0;34m[\u001b[0m\u001b[0;34m'cells'\u001b[0m\u001b[0;34m]\u001b[0m\u001b[0;34m[\u001b[0m\u001b[0;34m'rows'\u001b[0m\u001b[0;34m]\u001b[0m\u001b[0;34m[\u001b[0m\u001b[0mpast\u001b[0m\u001b[0;34m]\u001b[0m\u001b[0;34m[\u001b[0m\u001b[0mj\u001b[0m\u001b[0;34m]\u001b[0m\u001b[0;34m:\u001b[0m\u001b[0;34m\u001b[0m\u001b[0m\n\u001b[0m\u001b[1;32m     80\u001b[0m                                 \u001b[0msame\u001b[0m\u001b[0;34m+=\u001b[0m\u001b[0;36m1\u001b[0m\u001b[0;34m\u001b[0m\u001b[0m\n\u001b[1;32m     81\u001b[0m                                 \u001b[0mstreak\u001b[0m\u001b[0;34m+=\u001b[0m\u001b[0;36m1\u001b[0m\u001b[0;34m\u001b[0m\u001b[0m\n",
        "\u001b[0;31mKeyboardInterrupt\u001b[0m: "
       ]
      },
      {
       "output_type": "stream",
       "stream": "stdout",
       "text": [
        "\n"
       ]
      }
     ],
     "prompt_number": 7
    },
    {
     "cell_type": "code",
     "collapsed": false,
     "input": [
      "print tested_dict['rule'][1298].keys()\n"
     ],
     "language": "python",
     "metadata": {},
     "outputs": [
      {
       "ename": "KeyError",
       "evalue": "1298",
       "output_type": "pyerr",
       "traceback": [
        "\u001b[0;31m---------------------------------------------------------------------------\u001b[0m\n\u001b[0;31mKeyError\u001b[0m                                  Traceback (most recent call last)",
        "\u001b[0;32m<ipython-input-10-e9873a88cd99>\u001b[0m in \u001b[0;36m<module>\u001b[0;34m()\u001b[0m\n\u001b[0;32m----> 1\u001b[0;31m \u001b[0;32mprint\u001b[0m \u001b[0mtested_dict\u001b[0m\u001b[0;34m[\u001b[0m\u001b[0;34m'rule'\u001b[0m\u001b[0;34m]\u001b[0m\u001b[0;34m[\u001b[0m\u001b[0;36m1298\u001b[0m\u001b[0;34m]\u001b[0m\u001b[0;34m.\u001b[0m\u001b[0mkeys\u001b[0m\u001b[0;34m(\u001b[0m\u001b[0;34m)\u001b[0m\u001b[0;34m\u001b[0m\u001b[0m\n\u001b[0m",
        "\u001b[0;31mKeyError\u001b[0m: 1298"
       ]
      }
     ],
     "prompt_number": 10
    },
    {
     "cell_type": "code",
     "collapsed": false,
     "input": [],
     "language": "python",
     "metadata": {},
     "outputs": []
    }
   ],
   "metadata": {}
  }
 ]
}
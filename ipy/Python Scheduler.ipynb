{
 "metadata": {
  "name": "Python Scheduler"
 },
 "nbformat": 3,
 "nbformat_minor": 0,
 "worksheets": [
  {
   "cells": [
    {
     "cell_type": "code",
     "collapsed": false,
     "input": [
      "import threading\n",
      "import sched\n",
      "import time\n",
      "import json\n",
      "import os\n",
      "from datetime import datetime"
     ],
     "language": "python",
     "metadata": {},
     "outputs": [],
     "prompt_number": 3
    },
    {
     "cell_type": "code",
     "collapsed": false,
     "input": [
      "sched_dict={'meta': { 'source': '/tmp/testfile.json', 'reload_at':0},\n",
      "            'events':{\n",
      "                      0:{ 'time':'17:23', 'command': 'touch /tmp/outtest' }\n",
      "                      \n",
      "                      }\n",
      "            }"
     ],
     "language": "python",
     "metadata": {},
     "outputs": [],
     "prompt_number": 129
    },
    {
     "cell_type": "code",
     "collapsed": false,
     "input": [
      "class pycron(object):\n",
      "    def  __init__(self,dic):\n",
      "            self.sched_dict=dic\n",
      "            self.scheduler=sched.scheduler(time.time, time.sleep)\n",
      "            self.filename=self.sched_dict['meta']['source']\n",
      "            self.running_processes=[]\n",
      "            self.epoch=datetime.fromtimestamp(0)\n",
      "    def reload_config(self):\n",
      "        f=open(self.filename, 'r')\n",
      "        raw_string=f.read()\n",
      "        self.sched_dict=json.loads(raw_string)\n",
      "        self.filename=self.sched_dict['meta']['source']\n",
      "        f.close()\n",
      "    def cancel_running(self):\n",
      "        for i in self.running_processes:\n",
      "            self.scheduler.cancel(i)\n",
      "        self.running_processes=[]\n",
      "    def gen_func(self, command):\n",
      "        def shell_func():\n",
      "            print \"attempting to run command: \"+str(command)\n",
      "            os.popen(command)\n",
      "        return shell_func\n",
      "    def create_events(self):\n",
      "        for i in self.sched_dict['events']:\n",
      "            command=self.sched_dict['events'][i]['command']\n",
      "            #print command\n",
      "            func=self.gen_func(command)\n",
      "            time_s=datetime.strptime(self.sched_dict['events'][i]['time'],\"%H:%M\")\n",
      "            now=datetime.utcfromtimestamp(time.time())\n",
      "            c=datetime(now.year,now.month,now.day,time_s.hour,time_s.minute)\n",
      "            abs_time=(c-self.epoch).total_seconds()\n",
      "            entry=self.scheduler.enterabs(abs_time, 2, func, '')\n",
      "            self.running_processes.append(entry)\n",
      "        #below script in 157\n",
      "    def get_new_scripts(self):\n",
      "        print \"reloading config from file!\"\n",
      "        self.cancel_running()\n",
      "        self.reload_config()\n",
      "        #self.sched_dict['events'].update({999:{'time' : \"11:59\", 'command': self.get_new_scripts() } })\n",
      "        now=datetime.utcfromtimestamp(time.time())\n",
      "        c=datetime(now.year,now.month,now.day+1)\n",
      "        abs_time=(c-self.epoch).total_seconds()\n",
      "        entry=self.scheduler.enterabs(abs_time, 1, self.get_new_scripts,\"\")\n",
      "        self.running_processes.append(entry)\n",
      "        self.create_events()\n",
      "        #self.run_timer()\n",
      "    def run_timer():\n",
      "        self.scheduler.run()\n",
      "        #threading\n",
      "    \n",
      "        \n",
      "        \n",
      "        \n",
      "    "
     ],
     "language": "python",
     "metadata": {},
     "outputs": [],
     "prompt_number": 130
    },
    {
     "cell_type": "code",
     "collapsed": false,
     "input": [
      "#\n",
      "# Trying to run a full one\n",
      "#\n",
      "testcron=pycron(sched_dict)\n",
      "testcron.get_new_scripts()\n",
      "print time.time()\n",
      "\n",
      "#ok so just need to fix the actual time references to match the host"
     ],
     "language": "python",
     "metadata": {},
     "outputs": [
      {
       "output_type": "stream",
       "stream": "stdout",
       "text": [
        "reloading config from file!\n",
        "1392243757.51\n"
       ]
      }
     ],
     "prompt_number": 134
    },
    {
     "cell_type": "code",
     "collapsed": false,
     "input": [
      "print time.time()\n",
      "print testcron.running_processes\n",
      "\n"
     ],
     "language": "python",
     "metadata": {},
     "outputs": [
      {
       "output_type": "stream",
       "stream": "stdout",
       "text": [
        "1392243762.71\n",
        "[Event(time=1392267600.0, priority=1, action=<bound method pycron.get_new_scripts of <__main__.pycron object at 0x4534b90>>, argument=''), Event(time=1392243780.0, priority=2, action=<function shell_func at 0x4544a28>, argument='')]\n"
       ]
      }
     ],
     "prompt_number": 136
    },
    {
     "cell_type": "code",
     "collapsed": false,
     "input": [
      "#print datetime.tzinfo(datetime.now())\n",
      "print time.time()\n",
      "datetime.time(testcron.epoch)\n",
      "datetime.fromtimestamp(1392241800)\n",
      "#time.gmtime(float(testcron.epoch))"
     ],
     "language": "python",
     "metadata": {},
     "outputs": [
      {
       "output_type": "stream",
       "stream": "stdout",
       "text": [
        "1392243497.84\n"
       ]
      },
      {
       "output_type": "pyout",
       "prompt_number": 117,
       "text": [
        "datetime.datetime(2014, 2, 12, 16, 50)"
       ]
      }
     ],
     "prompt_number": 117
    },
    {
     "cell_type": "code",
     "collapsed": false,
     "input": [],
     "language": "python",
     "metadata": {},
     "outputs": [],
     "prompt_number": 111
    },
    {
     "cell_type": "code",
     "collapsed": false,
     "input": [
      "t=json.dumps(sched_dict)\n",
      "print t"
     ],
     "language": "python",
     "metadata": {},
     "outputs": [
      {
       "output_type": "stream",
       "stream": "stdout",
       "text": [
        "{\"meta\": {\"reload_at\": 0, \"source\": \"/tmp/testfile.json\"}, \"events\": {\"0\": {\"command\": \"echo 1 >> /tmp/outpit1\", \"time\": \"16:50\"}}}\n"
       ]
      }
     ],
     "prompt_number": 33
    },
    {
     "cell_type": "code",
     "collapsed": false,
     "input": [
      "f=open('/tmp/test.txt', 'r')\n",
      "raw_string=f.read()\n",
      "p=json.loads(raw_string)\n"
     ],
     "language": "python",
     "metadata": {},
     "outputs": [],
     "prompt_number": 24
    },
    {
     "cell_type": "code",
     "collapsed": false,
     "input": [
      "#write back to file\n",
      "f=open('/tmp/testfile.json', 'w')\n",
      "f.write(json.dumps(sched_dict))\n",
      "f.close()\n",
      "\n",
      "    "
     ],
     "language": "python",
     "metadata": {},
     "outputs": [],
     "prompt_number": 132
    },
    {
     "cell_type": "code",
     "collapsed": false,
     "input": [
      "file=open(p['meta']['source'], 'r')\n",
      "t=file.read()\n",
      "p=json.loads(t)"
     ],
     "language": "python",
     "metadata": {},
     "outputs": [
      {
       "ename": "NameError",
       "evalue": "name 'p' is not defined",
       "output_type": "pyerr",
       "traceback": [
        "\u001b[0;31m---------------------------------------------------------------------------\u001b[0m\n\u001b[0;31mNameError\u001b[0m                                 Traceback (most recent call last)",
        "\u001b[0;32m<ipython-input-133-c4e116428863>\u001b[0m in \u001b[0;36m<module>\u001b[0;34m()\u001b[0m\n\u001b[0;32m----> 1\u001b[0;31m \u001b[0mfile\u001b[0m\u001b[0;34m=\u001b[0m\u001b[0mopen\u001b[0m\u001b[0;34m(\u001b[0m\u001b[0mp\u001b[0m\u001b[0;34m[\u001b[0m\u001b[0;34m'meta'\u001b[0m\u001b[0;34m]\u001b[0m\u001b[0;34m[\u001b[0m\u001b[0;34m'source'\u001b[0m\u001b[0;34m]\u001b[0m\u001b[0;34m,\u001b[0m \u001b[0;34m'r'\u001b[0m\u001b[0;34m)\u001b[0m\u001b[0;34m\u001b[0m\u001b[0m\n\u001b[0m\u001b[1;32m      2\u001b[0m \u001b[0mt\u001b[0m\u001b[0;34m=\u001b[0m\u001b[0mfile\u001b[0m\u001b[0;34m.\u001b[0m\u001b[0mread\u001b[0m\u001b[0;34m(\u001b[0m\u001b[0;34m)\u001b[0m\u001b[0;34m\u001b[0m\u001b[0m\n\u001b[1;32m      3\u001b[0m \u001b[0mp\u001b[0m\u001b[0;34m=\u001b[0m\u001b[0mjson\u001b[0m\u001b[0;34m.\u001b[0m\u001b[0mloads\u001b[0m\u001b[0;34m(\u001b[0m\u001b[0mt\u001b[0m\u001b[0;34m)\u001b[0m\u001b[0;34m\u001b[0m\u001b[0m\n",
        "\u001b[0;31mNameError\u001b[0m: name 'p' is not defined"
       ]
      }
     ],
     "prompt_number": 133
    },
    {
     "cell_type": "code",
     "collapsed": false,
     "input": [
      "\n",
      "scheduler=sched.scheduler(time.time, time.sleep)\n",
      "p1=scheduler.enter(10, 1, nothing, ('first'))"
     ],
     "language": "python",
     "metadata": {},
     "outputs": [],
     "prompt_number": 81
    },
    {
     "cell_type": "code",
     "collapsed": false,
     "input": [
      "p3=scheduler.enter(10, 1, nothing, ('first'))"
     ],
     "language": "python",
     "metadata": {},
     "outputs": [],
     "prompt_number": 82
    },
    {
     "cell_type": "code",
     "collapsed": false,
     "input": [
      "for i in scheduler.queue:\n",
      "    print i"
     ],
     "language": "python",
     "metadata": {},
     "outputs": [
      {
       "output_type": "stream",
       "stream": "stdout",
       "text": [
        "Event(time=1392004553.202823, priority=1, action=<function nothing at 0x3f700c8>, argument='first')\n"
       ]
      }
     ],
     "prompt_number": 134
    },
    {
     "cell_type": "code",
     "collapsed": false,
     "input": [
      "for i in sched_dict['events']:\n",
      "    print i"
     ],
     "language": "python",
     "metadata": {},
     "outputs": [
      {
       "output_type": "stream",
       "stream": "stdout",
       "text": [
        "0\n"
       ]
      }
     ],
     "prompt_number": 276
    },
    {
     "cell_type": "code",
     "collapsed": false,
     "input": [
      "test1=nothing\n",
      "test2=nothing('name')\n"
     ],
     "language": "python",
     "metadata": {},
     "outputs": [],
     "prompt_number": 137
    },
    {
     "cell_type": "code",
     "collapsed": false,
     "input": [
      "def nothing(name):\n",
      "        def nada():\n",
      "            print \"yes\" + str(name)\n",
      "        return nada\n"
     ],
     "language": "python",
     "metadata": {},
     "outputs": [],
     "prompt_number": 136
    },
    {
     "cell_type": "code",
     "collapsed": false,
     "input": [
      "#trying to make it so that I can assign functions\n",
      "import subprocess\n",
      "cmd_array=[]\n",
      "for i in sched_dict['events']:\n",
      "    command=sched_dict['events'][i]['command']\n",
      "    print command\n",
      "    os.popen(command).read()\n",
      "    #find the ight way to start the process\n",
      "    "
     ],
     "language": "python",
     "metadata": {},
     "outputs": [
      {
       "output_type": "stream",
       "stream": "stdout",
       "text": [
        "hostname\n",
        "echo \"true\"\n",
        "echo \"ran successfully\">> /tmp/outputs\n"
       ]
      }
     ],
     "prompt_number": 272
    },
    {
     "cell_type": "code",
     "collapsed": false,
     "input": [
      "from subprocess import call\n",
      "print os.getcwd()\n",
      "print os.system(\"ls -hl\")"
     ],
     "language": "python",
     "metadata": {},
     "outputs": [
      {
       "output_type": "stream",
       "stream": "stdout",
       "text": [
        "/home/tolly/Documents/Git/setup\n",
        "0\n"
       ]
      }
     ],
     "prompt_number": 165
    },
    {
     "cell_type": "code",
     "collapsed": false,
     "input": [
      "arr1=[]\n",
      "test1=nothing(' happy')\n",
      "arr1.append(test1)\n",
      "test1=nothing( ' sad')\n",
      "arr1.append(test1)\n"
     ],
     "language": "python",
     "metadata": {},
     "outputs": [],
     "prompt_number": 144
    },
    {
     "cell_type": "code",
     "collapsed": false,
     "input": [
      "print pycron\n"
     ],
     "language": "python",
     "metadata": {},
     "outputs": [
      {
       "output_type": "stream",
       "stream": "stdout",
       "text": [
        "<class '__main__.pycron'>\n"
       ]
      }
     ],
     "prompt_number": 264
    },
    {
     "cell_type": "code",
     "collapsed": false,
     "input": [
      "j=os.popen(\"ls -hl\")\n",
      "j.read()"
     ],
     "language": "python",
     "metadata": {},
     "outputs": [
      {
       "output_type": "pyout",
       "prompt_number": 168,
       "text": [
        "'total 20K\\n-rw-rw-r-- 1 tolly tolly 1.4K Nov 24 12:23 aliases.sh\\ndrwxrwxr-x 6 tolly tolly 4.0K Jan 14 20:41 apartment\\ndrwxrwxr-x 2 tolly tolly 4.0K Feb  9 11:38 ipy\\n-rw-rw-r-- 1 tolly tolly    0 Aug 13 22:04 nodesetup.sh\\n-rw-rw-r-- 1 tolly tolly  475 Aug 13 22:04 README.md\\n-rwxrwxr-x 1 tolly tolly 1.5K Aug 13 22:04 setup.sh\\n'"
       ]
      }
     ],
     "prompt_number": 168
    },
    {
     "cell_type": "code",
     "collapsed": false,
     "input": [
      "arr1[0]()\n",
      "arr1[1]()"
     ],
     "language": "python",
     "metadata": {},
     "outputs": [
      {
       "output_type": "stream",
       "stream": "stdout",
       "text": [
        "yes happy\n",
        "yes sad\n"
       ]
      }
     ],
     "prompt_number": 147
    },
    {
     "cell_type": "code",
     "collapsed": false,
     "input": [
      "#Beginning some work on timef\n",
      "from datetime import datetime\n",
      "a='20:30'\n",
      "b=time.strptime(a,\"%H:%M\")\n",
      "now=datetime.now()\n",
      "print now\n",
      "c=datetime(now.year,now.month,now.day)"
     ],
     "language": "python",
     "metadata": {},
     "outputs": [
      {
       "output_type": "stream",
       "stream": "stdout",
       "text": [
        "2014-02-11 22:28:15.656365\n"
       ]
      }
     ],
     "prompt_number": 268
    },
    {
     "cell_type": "code",
     "collapsed": false,
     "input": [
      "print b.tm_hour\n",
      "b.tm_min\n"
     ],
     "language": "python",
     "metadata": {},
     "outputs": [
      {
       "output_type": "stream",
       "stream": "stdout",
       "text": [
        "20\n"
       ]
      },
      {
       "output_type": "pyout",
       "prompt_number": 192,
       "text": [
        "30"
       ]
      }
     ],
     "prompt_number": 192
    },
    {
     "cell_type": "code",
     "collapsed": false,
     "input": [
      "\n",
      "help(datetime.now())\n"
     ],
     "language": "python",
     "metadata": {},
     "outputs": [
      {
       "output_type": "stream",
       "stream": "stdout",
       "text": [
        "Help on datetime object:\n",
        "\n",
        "class datetime(date)\n",
        " |  datetime(year, month, day[, hour[, minute[, second[, microsecond[,tzinfo]]]]])\n",
        " |  \n",
        " |  The year, month and day arguments are required. tzinfo may be None, or an\n",
        " |  instance of a tzinfo subclass. The remaining arguments may be ints or longs.\n",
        " |  \n",
        " |  Method resolution order:\n",
        " |      datetime\n",
        " |      date\n",
        " |      __builtin__.object\n",
        " |  \n",
        " |  Methods defined here:\n",
        " |  \n",
        " |  __add__(...)\n",
        " |      x.__add__(y) <==> x+y\n",
        " |  \n",
        " |  __eq__(...)\n",
        " |      x.__eq__(y) <==> x==y\n",
        " |  \n",
        " |  __ge__(...)\n",
        " |      x.__ge__(y) <==> x>=y\n",
        " |  \n",
        " |  __getattribute__(...)\n",
        " |      x.__getattribute__('name') <==> x.name\n",
        " |  \n",
        " |  __gt__(...)\n",
        " |      x.__gt__(y) <==> x>y\n",
        " |  \n",
        " |  __hash__(...)\n",
        " |      x.__hash__() <==> hash(x)\n",
        " |  \n",
        " |  __le__(...)\n",
        " |      x.__le__(y) <==> x<=y\n",
        " |  \n",
        " |  __lt__(...)\n",
        " |      x.__lt__(y) <==> x<y\n",
        " |  \n",
        " |  __ne__(...)\n",
        " |      x.__ne__(y) <==> x!=y\n",
        " |  \n",
        " |  __radd__(...)\n",
        " |      x.__radd__(y) <==> y+x\n",
        " |  \n",
        " |  __reduce__(...)\n",
        " |      __reduce__() -> (cls, state)\n",
        " |  \n",
        " |  __repr__(...)\n",
        " |      x.__repr__() <==> repr(x)\n",
        " |  \n",
        " |  __rsub__(...)\n",
        " |      x.__rsub__(y) <==> y-x\n",
        " |  \n",
        " |  __str__(...)\n",
        " |      x.__str__() <==> str(x)\n",
        " |  \n",
        " |  __sub__(...)\n",
        " |      x.__sub__(y) <==> x-y\n",
        " |  \n",
        " |  astimezone(...)\n",
        " |      tz -> convert to local time in new timezone tz\n",
        " |  \n",
        " |  combine(...)\n",
        " |      date, time -> datetime with same date and time fields\n",
        " |  \n",
        " |  ctime(...)\n",
        " |      Return ctime() style string.\n",
        " |  \n",
        " |  date(...)\n",
        " |      Return date object with same year, month and day.\n",
        " |  \n",
        " |  dst(...)\n",
        " |      Return self.tzinfo.dst(self).\n",
        " |  \n",
        " |  fromtimestamp(...)\n",
        " |      timestamp[, tz] -> tz's local time from POSIX timestamp.\n",
        " |  \n",
        " |  isoformat(...)\n",
        " |      [sep] -> string in ISO 8601 format, YYYY-MM-DDTHH:MM:SS[.mmmmmm][+HH:MM].\n",
        " |      \n",
        " |      sep is used to separate the year from the time, and defaults to 'T'.\n",
        " |  \n",
        " |  now(...)\n",
        " |      [tz] -> new datetime with tz's local day and time.\n",
        " |  \n",
        " |  replace(...)\n",
        " |      Return datetime with new specified fields.\n",
        " |  \n",
        " |  strptime(...)\n",
        " |      string, format -> new datetime parsed from a string (like time.strptime()).\n",
        " |  \n",
        " |  time(...)\n",
        " |      Return time object with same time but with tzinfo=None.\n",
        " |  \n",
        " |  timetuple(...)\n",
        " |      Return time tuple, compatible with time.localtime().\n",
        " |  \n",
        " |  timetz(...)\n",
        " |      Return time object with same time and tzinfo.\n",
        " |  \n",
        " |  tzname(...)\n",
        " |      Return self.tzinfo.tzname(self).\n",
        " |  \n",
        " |  utcfromtimestamp(...)\n",
        " |      timestamp -> UTC datetime from a POSIX timestamp (like time.time()).\n",
        " |  \n",
        " |  utcnow(...)\n",
        " |      Return a new datetime representing UTC day and time.\n",
        " |  \n",
        " |  utcoffset(...)\n",
        " |      Return self.tzinfo.utcoffset(self).\n",
        " |  \n",
        " |  utctimetuple(...)\n",
        " |      Return UTC time tuple, compatible with time.localtime().\n",
        " |  \n",
        " |  ----------------------------------------------------------------------\n",
        " |  Data descriptors defined here:\n",
        " |  \n",
        " |  hour\n",
        " |  \n",
        " |  microsecond\n",
        " |  \n",
        " |  minute\n",
        " |  \n",
        " |  second\n",
        " |  \n",
        " |  tzinfo\n",
        " |  \n",
        " |  ----------------------------------------------------------------------\n",
        " |  Data and other attributes defined here:\n",
        " |  \n",
        " |  __new__ = <built-in method __new__ of type object>\n",
        " |      T.__new__(S, ...) -> a new object with type S, a subtype of T\n",
        " |  \n",
        " |  max = datetime.datetime(9999, 12, 31, 23, 59, 59, 999999)\n",
        " |  \n",
        " |  min = datetime.datetime(1, 1, 1, 0, 0)\n",
        " |  \n",
        " |  resolution = datetime.timedelta(0, 0, 1)\n",
        " |  \n",
        " |  ----------------------------------------------------------------------\n",
        " |  Methods inherited from date:\n",
        " |  \n",
        " |  __format__(...)\n",
        " |      Formats self with strftime.\n",
        " |  \n",
        " |  fromordinal(...)\n",
        " |      int -> date corresponding to a proleptic Gregorian ordinal.\n",
        " |  \n",
        " |  isocalendar(...)\n",
        " |      Return a 3-tuple containing ISO year, week number, and weekday.\n",
        " |  \n",
        " |  isoweekday(...)\n",
        " |      Return the day of the week represented by the date.\n",
        " |      Monday == 1 ... Sunday == 7\n",
        " |  \n",
        " |  strftime(...)\n",
        " |      format -> strftime() style string.\n",
        " |  \n",
        " |  today(...)\n",
        " |      Current date or datetime:  same as self.__class__.fromtimestamp(time.time()).\n",
        " |  \n",
        " |  toordinal(...)\n",
        " |      Return proleptic Gregorian ordinal.  January 1 of year 1 is day 1.\n",
        " |  \n",
        " |  weekday(...)\n",
        " |      Return the day of the week represented by the date.\n",
        " |      Monday == 0 ... Sunday == 6\n",
        " |  \n",
        " |  ----------------------------------------------------------------------\n",
        " |  Data descriptors inherited from date:\n",
        " |  \n",
        " |  day\n",
        " |  \n",
        " |  month\n",
        " |  \n",
        " |  year\n",
        "\n"
       ]
      }
     ],
     "prompt_number": 7
    },
    {
     "cell_type": "code",
     "collapsed": false,
     "input": [
      "time.time()\n",
      "print datetime.utcfromtimestamp(time.time())"
     ],
     "language": "python",
     "metadata": {},
     "outputs": [
      {
       "output_type": "stream",
       "stream": "stdout",
       "text": [
        "2014-02-12 21:43:21.596284\n"
       ]
      }
     ],
     "prompt_number": 20
    },
    {
     "cell_type": "code",
     "collapsed": false,
     "input": [
      "datetime(1970,1,1)\n"
     ],
     "language": "python",
     "metadata": {},
     "outputs": [
      {
       "output_type": "pyout",
       "prompt_number": 24,
       "text": [
        "datetime.datetime(1970, 1, 1, 0, 0)"
       ]
      }
     ],
     "prompt_number": 24
    },
    {
     "cell_type": "code",
     "collapsed": false,
     "input": [],
     "language": "python",
     "metadata": {},
     "outputs": []
    }
   ],
   "metadata": {}
  }
 ]
}
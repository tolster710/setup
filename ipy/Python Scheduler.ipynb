{
 "metadata": {
  "name": "Python Scheduler"
 },
 "nbformat": 3,
 "nbformat_minor": 0,
 "worksheets": [
  {
   "cells": [
    {
     "cell_type": "code",
     "collapsed": false,
     "input": [
      "import threading\n",
      "import sched\n",
      "import time\n",
      "import json\n",
      "import os\n",
      "from datetime import datetime"
     ],
     "language": "python",
     "metadata": {},
     "outputs": [],
     "prompt_number": 94
    },
    {
     "cell_type": "code",
     "collapsed": false,
     "input": [
      "sched_dict={'meta': { 'source': '/tmp/testfile.json', 'reload_at':0},\n",
      "            'events':{\n",
      "                      0:{ 'time':'22:45', 'command': 'echo 1 >> /tmp/outpit1' }\n",
      "                      \n",
      "                      }\n",
      "            }"
     ],
     "language": "python",
     "metadata": {},
     "outputs": [],
     "prompt_number": 273
    },
    {
     "cell_type": "code",
     "collapsed": false,
     "input": [
      "class pycron(object):\n",
      "    def  __init__(self,dic):\n",
      "            self.sched_dict=dic\n",
      "            self.scheduler=sched.scheduler(time.time, time.sleep)\n",
      "            self.filename=self.sched_dict['meta']['source']\n",
      "            self.running_processes=[]\n",
      "            self.epoch=datetime(1970,1,1)\n",
      "    def reload_config(self):\n",
      "        f=open(self.filename, 'r')\n",
      "        raw_string=f.read()\n",
      "        self.sched_dict=json.loads(raw_string)\n",
      "        self.filename=self.sched_dict['meta']['source']\n",
      "        f.close()\n",
      "    def cancel_running(self):\n",
      "        for i in self.running_processes:\n",
      "            self.scheduler.cancel(i)\n",
      "        self.running_processes=[]\n",
      "    def gen_func(self, command):\n",
      "        def shell_func():\n",
      "            os.popen(command)\n",
      "        return shell_func\n",
      "    def create_events(self):\n",
      "        for i in self.sched_dict['events']:\n",
      "            command=self.sched_dict['events'][i]['command']\n",
      "            #print command\n",
      "            func=self.gen_func(command)\n",
      "            time_s=datetime.strptime(self.sched_dict['events'][i]['time'],\"%H:%M\")\n",
      "            now=datetime.now()\n",
      "            c=datetime(now.year,now.month,now.day,time_s.hour,time_s.minute)\n",
      "            abs_time=(c-self.epoch).total_seconds()\n",
      "            entry=self.scheduler.enterabs(abs_time, 2, func, '')\n",
      "            self.running_processes.append(entry)\n",
      "        #below script in 157\n",
      "    def get_new_scripts(self):\n",
      "        self.cancel_running()\n",
      "        self.reload_config()\n",
      "        #self.sched_dict['events'].update({999:{'time' : \"11:59\", 'command': self.get_new_scripts() } })\n",
      "        now=datetime.now()\n",
      "        c=datetime(now.year,now.month,now.day+1)\n",
      "        abs_time=(c-self.epoch).total_seconds()\n",
      "        entry=self.scheduler.enterabs(abs_time, 1, self.get_new_scripts,\"\")\n",
      "        self.running_processes.append(entry)\n",
      "        self.create_events()\n",
      "        #self.run_timer()\n",
      "    def run_timer():\n",
      "        self.scheduler.run()\n",
      "        #threading\n",
      "    \n",
      "        \n",
      "        \n",
      "        \n",
      "    "
     ],
     "language": "python",
     "metadata": {},
     "outputs": [],
     "prompt_number": 280
    },
    {
     "cell_type": "code",
     "collapsed": false,
     "input": [
      "#\n",
      "# Trying to run a full one\n",
      "#\n",
      "testcron=pycron(sched_dict)\n",
      "testcron.get_new_scripts()\n",
      "print testcron.running_processes\n",
      "#ok so just need to fix the actual time references to match the host"
     ],
     "language": "python",
     "metadata": {},
     "outputs": [
      {
       "output_type": "stream",
       "stream": "stdout",
       "text": [
        "[Event(time=1392163200.0, priority=1, action=<bound method pycron.get_new_scripts of <__main__.pycron object at 0x3ff8790>>, argument=''), Event(time=1392120000.0, priority=2, action=<function shell_func at 0x407e578>, argument=''), Event(time=1392076800.0, priority=2, action=<function shell_func at 0x407e5f0>, argument=''), Event(time=1392157020.0, priority=2, action=<function shell_func at 0x407e500>, argument='')]\n"
       ]
      }
     ],
     "prompt_number": 282
    },
    {
     "cell_type": "code",
     "collapsed": false,
     "input": [
      "t=json.dumps(sched_dict)\n",
      "print t"
     ],
     "language": "python",
     "metadata": {},
     "outputs": [
      {
       "output_type": "stream",
       "stream": "stdout",
       "text": [
        "{\"meta\": {\"reload_at\": 0, \"source\": \"/tmp/testfile.json\"}, \"events\": {\"0\": {\"command\": \"hostname\", \"time\": \"00:00\"}}}\n"
       ]
      }
     ],
     "prompt_number": 9
    },
    {
     "cell_type": "code",
     "collapsed": false,
     "input": [
      "f=open('/tmp/test.txt', 'r')\n",
      "raw_string=f.read()\n",
      "p=json.loads(raw_string)\n"
     ],
     "language": "python",
     "metadata": {},
     "outputs": [],
     "prompt_number": 24
    },
    {
     "cell_type": "code",
     "collapsed": false,
     "input": [
      "\n",
      "type(p['meta']['source'])\n",
      "\n",
      "    "
     ],
     "language": "python",
     "metadata": {},
     "outputs": [],
     "prompt_number": 114
    },
    {
     "cell_type": "code",
     "collapsed": false,
     "input": [
      "file=open(p['meta']['source'], 'r')\n",
      "t=file.read()\n",
      "p=json.loads(t)"
     ],
     "language": "python",
     "metadata": {},
     "outputs": [],
     "prompt_number": 131
    },
    {
     "cell_type": "code",
     "collapsed": false,
     "input": [
      "\n",
      "scheduler=sched.scheduler(time.time, time.sleep)\n",
      "p1=scheduler.enter(10, 1, nothing, ('first'))"
     ],
     "language": "python",
     "metadata": {},
     "outputs": [],
     "prompt_number": 81
    },
    {
     "cell_type": "code",
     "collapsed": false,
     "input": [
      "p3=scheduler.enter(10, 1, nothing, ('first'))"
     ],
     "language": "python",
     "metadata": {},
     "outputs": [],
     "prompt_number": 82
    },
    {
     "cell_type": "code",
     "collapsed": false,
     "input": [
      "for i in scheduler.queue:\n",
      "    print i"
     ],
     "language": "python",
     "metadata": {},
     "outputs": [
      {
       "output_type": "stream",
       "stream": "stdout",
       "text": [
        "Event(time=1392004553.202823, priority=1, action=<function nothing at 0x3f700c8>, argument='first')\n"
       ]
      }
     ],
     "prompt_number": 134
    },
    {
     "cell_type": "code",
     "collapsed": false,
     "input": [
      "for i in sched_dict['events']:\n",
      "    print i"
     ],
     "language": "python",
     "metadata": {},
     "outputs": [
      {
       "output_type": "stream",
       "stream": "stdout",
       "text": [
        "0\n"
       ]
      }
     ],
     "prompt_number": 276
    },
    {
     "cell_type": "code",
     "collapsed": false,
     "input": [
      "test1=nothing\n",
      "test2=nothing('name')\n"
     ],
     "language": "python",
     "metadata": {},
     "outputs": [],
     "prompt_number": 137
    },
    {
     "cell_type": "code",
     "collapsed": false,
     "input": [
      "def nothing(name):\n",
      "        def nada():\n",
      "            print \"yes\" + str(name)\n",
      "        return nada\n"
     ],
     "language": "python",
     "metadata": {},
     "outputs": [],
     "prompt_number": 136
    },
    {
     "cell_type": "code",
     "collapsed": false,
     "input": [
      "#trying to make it so that I can assign functions\n",
      "import subprocess\n",
      "cmd_array=[]\n",
      "for i in sched_dict['events']:\n",
      "    command=sched_dict['events'][i]['command']\n",
      "    print command\n",
      "    os.popen(command).read()\n",
      "    #find the ight way to start the process\n",
      "    "
     ],
     "language": "python",
     "metadata": {},
     "outputs": [
      {
       "output_type": "stream",
       "stream": "stdout",
       "text": [
        "hostname\n",
        "echo \"true\"\n",
        "echo \"ran successfully\">> /tmp/outputs\n"
       ]
      }
     ],
     "prompt_number": 272
    },
    {
     "cell_type": "code",
     "collapsed": false,
     "input": [
      "from subprocess import call\n",
      "print os.getcwd()\n",
      "print os.system(\"ls -hl\")"
     ],
     "language": "python",
     "metadata": {},
     "outputs": [
      {
       "output_type": "stream",
       "stream": "stdout",
       "text": [
        "/home/tolly/Documents/Git/setup\n",
        "0\n"
       ]
      }
     ],
     "prompt_number": 165
    },
    {
     "cell_type": "code",
     "collapsed": false,
     "input": [
      "arr1=[]\n",
      "test1=nothing(' happy')\n",
      "arr1.append(test1)\n",
      "test1=nothing( ' sad')\n",
      "arr1.append(test1)\n"
     ],
     "language": "python",
     "metadata": {},
     "outputs": [],
     "prompt_number": 144
    },
    {
     "cell_type": "code",
     "collapsed": false,
     "input": [
      "print pycron\n"
     ],
     "language": "python",
     "metadata": {},
     "outputs": [
      {
       "output_type": "stream",
       "stream": "stdout",
       "text": [
        "<class '__main__.pycron'>\n"
       ]
      }
     ],
     "prompt_number": 264
    },
    {
     "cell_type": "code",
     "collapsed": false,
     "input": [
      "j=os.popen(\"ls -hl\")\n",
      "j.read()"
     ],
     "language": "python",
     "metadata": {},
     "outputs": [
      {
       "output_type": "pyout",
       "prompt_number": 168,
       "text": [
        "'total 20K\\n-rw-rw-r-- 1 tolly tolly 1.4K Nov 24 12:23 aliases.sh\\ndrwxrwxr-x 6 tolly tolly 4.0K Jan 14 20:41 apartment\\ndrwxrwxr-x 2 tolly tolly 4.0K Feb  9 11:38 ipy\\n-rw-rw-r-- 1 tolly tolly    0 Aug 13 22:04 nodesetup.sh\\n-rw-rw-r-- 1 tolly tolly  475 Aug 13 22:04 README.md\\n-rwxrwxr-x 1 tolly tolly 1.5K Aug 13 22:04 setup.sh\\n'"
       ]
      }
     ],
     "prompt_number": 168
    },
    {
     "cell_type": "code",
     "collapsed": false,
     "input": [
      "arr1[0]()\n",
      "arr1[1]()"
     ],
     "language": "python",
     "metadata": {},
     "outputs": [
      {
       "output_type": "stream",
       "stream": "stdout",
       "text": [
        "yes happy\n",
        "yes sad\n"
       ]
      }
     ],
     "prompt_number": 147
    },
    {
     "cell_type": "code",
     "collapsed": false,
     "input": [
      "#Beginning some work on timef\n",
      "from datetime import datetime\n",
      "a='20:30'\n",
      "b=time.strptime(a,\"%H:%M\")\n",
      "now=datetime.now()\n",
      "print now\n",
      "c=datetime(now.year,now.month,now.day)"
     ],
     "language": "python",
     "metadata": {},
     "outputs": [
      {
       "output_type": "stream",
       "stream": "stdout",
       "text": [
        "2014-02-11 22:28:15.656365\n"
       ]
      }
     ],
     "prompt_number": 268
    },
    {
     "cell_type": "code",
     "collapsed": false,
     "input": [
      "print b.tm_hour\n",
      "b.tm_min\n"
     ],
     "language": "python",
     "metadata": {},
     "outputs": [
      {
       "output_type": "stream",
       "stream": "stdout",
       "text": [
        "20\n"
       ]
      },
      {
       "output_type": "pyout",
       "prompt_number": 192,
       "text": [
        "30"
       ]
      }
     ],
     "prompt_number": 192
    },
    {
     "cell_type": "code",
     "collapsed": false,
     "input": [
      "time.time()\n",
      "datetime.now()\n"
     ],
     "language": "python",
     "metadata": {},
     "outputs": [
      {
       "output_type": "pyout",
       "prompt_number": 203,
       "text": [
        "datetime.datetime(2014, 2, 10, 16, 10, 57, 306885)"
       ]
      }
     ],
     "prompt_number": 203
    },
    {
     "cell_type": "code",
     "collapsed": false,
     "input": [],
     "language": "python",
     "metadata": {},
     "outputs": [],
     "prompt_number": 201
    },
    {
     "cell_type": "code",
     "collapsed": false,
     "input": [],
     "language": "python",
     "metadata": {},
     "outputs": []
    }
   ],
   "metadata": {}
  }
 ]
}